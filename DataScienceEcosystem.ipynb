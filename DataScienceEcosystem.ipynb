{
 "cells": [
  {
   "cell_type": "markdown",
   "id": "7f32a262-6395-4f72-a7a6-5e6eabf8c054",
   "metadata": {},
   "source": [
    "# Data Science Tools and Ecosystem"
   ]
  },
  {
   "cell_type": "markdown",
   "id": "01750e0c-9233-4b86-bf4c-31c81f560111",
   "metadata": {},
   "source": [
    "In this notebook, Data Science Tools and Ecosystem are summarized."
   ]
  },
  {
   "cell_type": "markdown",
   "id": "8adf99de-43ce-49d2-a2af-d505c46cad84",
   "metadata": {},
   "source": [
    "Some of the popular languages that Data Scientists use are:\n",
    "1. Python\n",
    "2. R\n",
    "3. Julia"
   ]
  },
  {
   "cell_type": "markdown",
   "id": "9935dc6b-4ede-45f8-bdcd-9fc08df704f4",
   "metadata": {},
   "source": [
    "Some of the commonly used libraries used by Data Scientists include:\n",
    "1. NumPy\n",
    "2. Pandas\n",
    "3. ggplot2"
   ]
  },
  {
   "cell_type": "markdown",
   "id": "aab331f1-5a20-41e7-8192-d7fad9d49189",
   "metadata": {},
   "source": [
    "| Data Science Tools |\n",
    "| -- |\n",
    "|Jupyter|\n",
    "|Rstudio|\n",
    "|Visual Studio Code |"
   ]
  },
  {
   "cell_type": "markdown",
   "id": "548eec07-fd5d-4a66-ad91-079e98126625",
   "metadata": {},
   "source": [
    "### Below are a few examples of evaluating arithmetic expressions in Python\n",
    "+ 1 + 2\n",
    "+ 3 * 6\n",
    "+ 4 - 9"
   ]
  },
  {
   "cell_type": "code",
   "execution_count": 1,
   "id": "c4baea0d-82a2-4c34-ad11-9cdd2d537bea",
   "metadata": {},
   "outputs": [
    {
     "data": {
      "text/plain": [
       "17"
      ]
     },
     "execution_count": 1,
     "metadata": {},
     "output_type": "execute_result"
    }
   ],
   "source": [
    "# This a simple arithmetic expression to mutiply then add integers\n",
    "(3*4)+5"
   ]
  },
  {
   "cell_type": "code",
   "execution_count": 2,
   "id": "c44c4954-f5a7-47dd-9f58-95aa5eda2a29",
   "metadata": {},
   "outputs": [
    {
     "data": {
      "text/plain": [
       "3.3333333333333335"
      ]
     },
     "execution_count": 2,
     "metadata": {},
     "output_type": "execute_result"
    }
   ],
   "source": [
    "#  This will convert 200 minutes to hours by diving by 60\n",
    "200 / 60 "
   ]
  },
  {
   "cell_type": "markdown",
   "id": "90aefa89-327e-4dd6-a1e6-c9a81565615e",
   "metadata": {},
   "source": [
    "__Objectives: List popular languages for Data Science__\n",
    "* Python\n",
    "* R\n",
    "* Julia"
   ]
  },
  {
   "cell_type": "markdown",
   "id": "58093549-4d3c-4262-b705-28e99c5e4381",
   "metadata": {},
   "source": [
    "## Author\n",
    "Orifjon"
   ]
  },
  {
   "cell_type": "code",
   "execution_count": null,
   "id": "9fd5768f-d39b-41cd-8c01-51f7ef37c85a",
   "metadata": {},
   "outputs": [],
   "source": []
  }
 ],
 "metadata": {
  "kernelspec": {
   "display_name": "Python 3 (ipykernel)",
   "language": "python",
   "name": "python3"
  },
  "language_info": {
   "codemirror_mode": {
    "name": "ipython",
    "version": 3
   },
   "file_extension": ".py",
   "mimetype": "text/x-python",
   "name": "python",
   "nbconvert_exporter": "python",
   "pygments_lexer": "ipython3",
   "version": "3.12.3"
  }
 },
 "nbformat": 4,
 "nbformat_minor": 5
}
